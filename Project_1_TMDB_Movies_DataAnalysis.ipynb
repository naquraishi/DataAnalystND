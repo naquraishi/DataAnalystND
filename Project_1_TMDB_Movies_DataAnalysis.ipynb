{
 "cells": [
  {
   "cell_type": "markdown",
   "metadata": {},
   "source": [
    "\n",
    "# <span style=\"color:green\">Project: Investigate a TMDB Dataset</span>\n",
    "\n",
    "## Table of Contents\n",
    "<ul>\n",
    "<li><a href=\"#intro\">Introduction</a></li>\n",
    "<li><a href=\"#wrangling\">Data Wrangling</a></li>\n",
    "<li><a href=\"#eda\">Exploratory Data Analysis</a></li>\n",
    "<li><a href=\"#conclusions\">Conclusions</a></li>\n",
    "</ul>"
   ]
  },
  {
   "cell_type": "markdown",
   "metadata": {},
   "source": [
    "<a id='intro'></a>\n",
    "## <span style=\"color:green\">Introduction</span>\n",
    "\n",
    "**This data set contains informationabout 10,000 movies collected fromThe Movie Database (TMDb),including user ratings and revenue. In below analysis tries to answer following questions**:\n",
    "\n",
    "1. What is the Correlation between movies<br/>\n",
    "    a. budget and revenue<br/>\n",
    "    b. budget and vote_average<br/>\n",
    "    c. budget and runtime<br/>\n",
    "    d. runtime and vote_average<br/>\n",
    "2. What is the decade vise vote_average trend?<br/>\n",
    "3. Which are Top 5 highest vote average Productions?<br/>\n",
    "4. Which are Top 5 average budget (Spending) Productions?<br/>\n",
    "5. Which are Top 5 average revenue Productions?<br/>\n",
    "6. Which are Top 5 Movie Genres based on number of movies of the genres made? <br/>\n",
    "7. Geners of top 50 vote average movies to see which genre is more common in top 50 vote avg movies?<br/>\n",
    "8. Which genre movie are in top 5 high budget? \n",
    "9. As Action looks to be one of the high spending gener, trying to find out how top 20 Action movies spending was over the years. Is average Action movies spending growing over th years?<br/>\n",
    "10. Which Action movie(s) has/have caused this peak in spending in 2010?\n",
    "11. Which genres are more common, Top 10 genres?"
   ]
  },
  {
   "cell_type": "code",
   "execution_count": 12,
   "metadata": {},
   "outputs": [],
   "source": [
    "import pandas as pd\n",
    "import numpy as np\n",
    "import matplotlib.pyplot as plt\n",
    "import seaborn as sns\n",
    "%matplotlib inline"
   ]
  },
  {
   "cell_type": "markdown",
   "metadata": {},
   "source": [
    "<a id='wrangling'></a>\n",
    "## <span style=\"color:green\">Data Wrangling</span>"
   ]
  },
  {
   "cell_type": "code",
   "execution_count": 13,
   "metadata": {},
   "outputs": [],
   "source": [
    "#loading the data available in csv to a pandas DataFrame object\n",
    "df_movies_start = pd.read_csv('tmdb-movies.csv')"
   ]
  },
  {
   "cell_type": "code",
   "execution_count": 14,
   "metadata": {},
   "outputs": [
    {
     "data": {
      "text/html": [
       "<div>\n",
       "<style scoped>\n",
       "    .dataframe tbody tr th:only-of-type {\n",
       "        vertical-align: middle;\n",
       "    }\n",
       "\n",
       "    .dataframe tbody tr th {\n",
       "        vertical-align: top;\n",
       "    }\n",
       "\n",
       "    .dataframe thead th {\n",
       "        text-align: right;\n",
       "    }\n",
       "</style>\n",
       "<table border=\"1\" class=\"dataframe\">\n",
       "  <thead>\n",
       "    <tr style=\"text-align: right;\">\n",
       "      <th></th>\n",
       "      <th>id</th>\n",
       "      <th>imdb_id</th>\n",
       "      <th>popularity</th>\n",
       "      <th>budget</th>\n",
       "      <th>revenue</th>\n",
       "      <th>original_title</th>\n",
       "      <th>cast</th>\n",
       "      <th>homepage</th>\n",
       "      <th>director</th>\n",
       "      <th>tagline</th>\n",
       "      <th>...</th>\n",
       "      <th>overview</th>\n",
       "      <th>runtime</th>\n",
       "      <th>genres</th>\n",
       "      <th>production_companies</th>\n",
       "      <th>release_date</th>\n",
       "      <th>vote_count</th>\n",
       "      <th>vote_average</th>\n",
       "      <th>release_year</th>\n",
       "      <th>budget_adj</th>\n",
       "      <th>revenue_adj</th>\n",
       "    </tr>\n",
       "  </thead>\n",
       "  <tbody>\n",
       "    <tr>\n",
       "      <th>0</th>\n",
       "      <td>135397</td>\n",
       "      <td>tt0369610</td>\n",
       "      <td>32.985763</td>\n",
       "      <td>150000000</td>\n",
       "      <td>1513528810</td>\n",
       "      <td>Jurassic World</td>\n",
       "      <td>Chris Pratt|Bryce Dallas Howard|Irrfan Khan|Vi...</td>\n",
       "      <td>http://www.jurassicworld.com/</td>\n",
       "      <td>Colin Trevorrow</td>\n",
       "      <td>The park is open.</td>\n",
       "      <td>...</td>\n",
       "      <td>Twenty-two years after the events of Jurassic ...</td>\n",
       "      <td>124</td>\n",
       "      <td>Action|Adventure|Science Fiction|Thriller</td>\n",
       "      <td>Universal Studios|Amblin Entertainment|Legenda...</td>\n",
       "      <td>6/9/15</td>\n",
       "      <td>5562</td>\n",
       "      <td>6.5</td>\n",
       "      <td>2015</td>\n",
       "      <td>1.379999e+08</td>\n",
       "      <td>1.392446e+09</td>\n",
       "    </tr>\n",
       "    <tr>\n",
       "      <th>1</th>\n",
       "      <td>76341</td>\n",
       "      <td>tt1392190</td>\n",
       "      <td>28.419936</td>\n",
       "      <td>150000000</td>\n",
       "      <td>378436354</td>\n",
       "      <td>Mad Max: Fury Road</td>\n",
       "      <td>Tom Hardy|Charlize Theron|Hugh Keays-Byrne|Nic...</td>\n",
       "      <td>http://www.madmaxmovie.com/</td>\n",
       "      <td>George Miller</td>\n",
       "      <td>What a Lovely Day.</td>\n",
       "      <td>...</td>\n",
       "      <td>An apocalyptic story set in the furthest reach...</td>\n",
       "      <td>120</td>\n",
       "      <td>Action|Adventure|Science Fiction|Thriller</td>\n",
       "      <td>Village Roadshow Pictures|Kennedy Miller Produ...</td>\n",
       "      <td>5/13/15</td>\n",
       "      <td>6185</td>\n",
       "      <td>7.1</td>\n",
       "      <td>2015</td>\n",
       "      <td>1.379999e+08</td>\n",
       "      <td>3.481613e+08</td>\n",
       "    </tr>\n",
       "  </tbody>\n",
       "</table>\n",
       "<p>2 rows × 21 columns</p>\n",
       "</div>"
      ],
      "text/plain": [
       "       id    imdb_id  popularity     budget     revenue      original_title  \\\n",
       "0  135397  tt0369610   32.985763  150000000  1513528810      Jurassic World   \n",
       "1   76341  tt1392190   28.419936  150000000   378436354  Mad Max: Fury Road   \n",
       "\n",
       "                                                cast  \\\n",
       "0  Chris Pratt|Bryce Dallas Howard|Irrfan Khan|Vi...   \n",
       "1  Tom Hardy|Charlize Theron|Hugh Keays-Byrne|Nic...   \n",
       "\n",
       "                        homepage         director             tagline  \\\n",
       "0  http://www.jurassicworld.com/  Colin Trevorrow   The park is open.   \n",
       "1    http://www.madmaxmovie.com/    George Miller  What a Lovely Day.   \n",
       "\n",
       "       ...                                                overview runtime  \\\n",
       "0      ...       Twenty-two years after the events of Jurassic ...     124   \n",
       "1      ...       An apocalyptic story set in the furthest reach...     120   \n",
       "\n",
       "                                      genres  \\\n",
       "0  Action|Adventure|Science Fiction|Thriller   \n",
       "1  Action|Adventure|Science Fiction|Thriller   \n",
       "\n",
       "                                production_companies release_date vote_count  \\\n",
       "0  Universal Studios|Amblin Entertainment|Legenda...       6/9/15       5562   \n",
       "1  Village Roadshow Pictures|Kennedy Miller Produ...      5/13/15       6185   \n",
       "\n",
       "   vote_average  release_year    budget_adj   revenue_adj  \n",
       "0           6.5          2015  1.379999e+08  1.392446e+09  \n",
       "1           7.1          2015  1.379999e+08  3.481613e+08  \n",
       "\n",
       "[2 rows x 21 columns]"
      ]
     },
     "execution_count": 14,
     "metadata": {},
     "output_type": "execute_result"
    }
   ],
   "source": [
    "#checking the general properties of the data by inspecting a few lines\n",
    "df_movies_start.head(2)"
   ]
  },
  {
   "cell_type": "code",
   "execution_count": 15,
   "metadata": {},
   "outputs": [
    {
     "data": {
      "text/plain": [
       "(10866, 21)"
      ]
     },
     "execution_count": 15,
     "metadata": {},
     "output_type": "execute_result"
    }
   ],
   "source": [
    "#Checking number of rows and columns in the dataframe\n",
    "df_movies_start.shape"
   ]
  },
  {
   "cell_type": "code",
   "execution_count": 16,
   "metadata": {},
   "outputs": [
    {
     "data": {
      "text/html": [
       "<div>\n",
       "<style scoped>\n",
       "    .dataframe tbody tr th:only-of-type {\n",
       "        vertical-align: middle;\n",
       "    }\n",
       "\n",
       "    .dataframe tbody tr th {\n",
       "        vertical-align: top;\n",
       "    }\n",
       "\n",
       "    .dataframe thead th {\n",
       "        text-align: right;\n",
       "    }\n",
       "</style>\n",
       "<table border=\"1\" class=\"dataframe\">\n",
       "  <thead>\n",
       "    <tr style=\"text-align: right;\">\n",
       "      <th></th>\n",
       "      <th>id</th>\n",
       "      <th>imdb_id</th>\n",
       "      <th>popularity</th>\n",
       "      <th>budget</th>\n",
       "      <th>revenue</th>\n",
       "      <th>original_title</th>\n",
       "      <th>cast</th>\n",
       "      <th>homepage</th>\n",
       "      <th>director</th>\n",
       "      <th>tagline</th>\n",
       "      <th>...</th>\n",
       "      <th>overview</th>\n",
       "      <th>runtime</th>\n",
       "      <th>genres</th>\n",
       "      <th>production_companies</th>\n",
       "      <th>release_date</th>\n",
       "      <th>vote_count</th>\n",
       "      <th>vote_average</th>\n",
       "      <th>release_year</th>\n",
       "      <th>budget_adj</th>\n",
       "      <th>revenue_adj</th>\n",
       "    </tr>\n",
       "  </thead>\n",
       "  <tbody>\n",
       "    <tr>\n",
       "      <th>2090</th>\n",
       "      <td>42194</td>\n",
       "      <td>tt0411951</td>\n",
       "      <td>0.59643</td>\n",
       "      <td>30000000</td>\n",
       "      <td>967000</td>\n",
       "      <td>TEKKEN</td>\n",
       "      <td>Jon Foo|Kelly Overton|Cary-Hiroyuki Tagawa|Ian...</td>\n",
       "      <td>NaN</td>\n",
       "      <td>Dwight H. Little</td>\n",
       "      <td>Survival is no game</td>\n",
       "      <td>...</td>\n",
       "      <td>In the year of 2039, after World Wars destroy ...</td>\n",
       "      <td>92</td>\n",
       "      <td>Crime|Drama|Action|Thriller|Science Fiction</td>\n",
       "      <td>Namco|Light Song Films</td>\n",
       "      <td>3/20/10</td>\n",
       "      <td>110</td>\n",
       "      <td>5.0</td>\n",
       "      <td>2010</td>\n",
       "      <td>30000000.0</td>\n",
       "      <td>967000.0</td>\n",
       "    </tr>\n",
       "  </tbody>\n",
       "</table>\n",
       "<p>1 rows × 21 columns</p>\n",
       "</div>"
      ],
      "text/plain": [
       "         id    imdb_id  popularity    budget  revenue original_title  \\\n",
       "2090  42194  tt0411951     0.59643  30000000   967000         TEKKEN   \n",
       "\n",
       "                                                   cast homepage  \\\n",
       "2090  Jon Foo|Kelly Overton|Cary-Hiroyuki Tagawa|Ian...      NaN   \n",
       "\n",
       "              director              tagline     ...       \\\n",
       "2090  Dwight H. Little  Survival is no game     ...        \n",
       "\n",
       "                                               overview runtime  \\\n",
       "2090  In the year of 2039, after World Wars destroy ...      92   \n",
       "\n",
       "                                           genres    production_companies  \\\n",
       "2090  Crime|Drama|Action|Thriller|Science Fiction  Namco|Light Song Films   \n",
       "\n",
       "     release_date vote_count  vote_average  release_year  budget_adj  \\\n",
       "2090      3/20/10        110           5.0          2010  30000000.0   \n",
       "\n",
       "      revenue_adj  \n",
       "2090     967000.0  \n",
       "\n",
       "[1 rows x 21 columns]"
      ]
     },
     "execution_count": 16,
     "metadata": {},
     "output_type": "execute_result"
    }
   ],
   "source": [
    "#checking for duplicates\n",
    "df_movies_start[df_movies_start.duplicated()]\n"
   ]
  },
  {
   "cell_type": "code",
   "execution_count": 17,
   "metadata": {},
   "outputs": [],
   "source": [
    "#Dropping the duplicate row\n",
    "df_movies_start.drop_duplicates(keep='first', inplace=True)"
   ]
  },
  {
   "cell_type": "code",
   "execution_count": 18,
   "metadata": {},
   "outputs": [],
   "source": [
    "#Splitting genres and expanding the dataframe with separate genres a movie belongs to\n",
    "df_movies_genres_expand =df_movies_start.drop('genres', axis=1).join(df_movies_start['genres'].str.split('|', expand=True).stack().reset_index(level=1, drop=True).rename('genres'))"
   ]
  },
  {
   "cell_type": "code",
   "execution_count": 19,
   "metadata": {},
   "outputs": [
    {
     "data": {
      "text/plain": [
       "id                      False\n",
       "imdb_id                  True\n",
       "popularity              False\n",
       "budget                  False\n",
       "revenue                 False\n",
       "original_title          False\n",
       "cast                     True\n",
       "homepage                 True\n",
       "director                 True\n",
       "tagline                  True\n",
       "keywords                 True\n",
       "overview                 True\n",
       "runtime                 False\n",
       "genres                   True\n",
       "production_companies     True\n",
       "release_date            False\n",
       "vote_count              False\n",
       "vote_average            False\n",
       "release_year            False\n",
       "budget_adj              False\n",
       "revenue_adj             False\n",
       "dtype: bool"
      ]
     },
     "execution_count": 19,
     "metadata": {},
     "output_type": "execute_result"
    }
   ],
   "source": [
    "#This shows which all columns have null values in them. \n",
    "df_movies_start.isnull().any()"
   ]
  },
  {
   "cell_type": "code",
   "execution_count": 20,
   "metadata": {},
   "outputs": [
    {
     "data": {
      "text/html": [
       "<div>\n",
       "<style scoped>\n",
       "    .dataframe tbody tr th:only-of-type {\n",
       "        vertical-align: middle;\n",
       "    }\n",
       "\n",
       "    .dataframe tbody tr th {\n",
       "        vertical-align: top;\n",
       "    }\n",
       "\n",
       "    .dataframe thead th {\n",
       "        text-align: right;\n",
       "    }\n",
       "</style>\n",
       "<table border=\"1\" class=\"dataframe\">\n",
       "  <thead>\n",
       "    <tr style=\"text-align: right;\">\n",
       "      <th></th>\n",
       "      <th>id</th>\n",
       "      <th>imdb_id</th>\n",
       "      <th>popularity</th>\n",
       "      <th>budget</th>\n",
       "      <th>revenue</th>\n",
       "      <th>original_title</th>\n",
       "      <th>cast</th>\n",
       "      <th>homepage</th>\n",
       "      <th>director</th>\n",
       "      <th>tagline</th>\n",
       "      <th>...</th>\n",
       "      <th>overview</th>\n",
       "      <th>runtime</th>\n",
       "      <th>genres</th>\n",
       "      <th>production_companies</th>\n",
       "      <th>release_date</th>\n",
       "      <th>vote_count</th>\n",
       "      <th>vote_average</th>\n",
       "      <th>release_year</th>\n",
       "      <th>budget_adj</th>\n",
       "      <th>revenue_adj</th>\n",
       "    </tr>\n",
       "  </thead>\n",
       "  <tbody>\n",
       "    <tr>\n",
       "      <th>424</th>\n",
       "      <td>363869</td>\n",
       "      <td>tt4835298</td>\n",
       "      <td>0.244648</td>\n",
       "      <td>0</td>\n",
       "      <td>0</td>\n",
       "      <td>Belli di papÃ</td>\n",
       "      <td>Diego Abatantuono|Matilde Gioli|Andrea Pisani|...</td>\n",
       "      <td>NaN</td>\n",
       "      <td>Guido Chiesa</td>\n",
       "      <td>NaN</td>\n",
       "      <td>...</td>\n",
       "      <td>Italian remake of the Mexican 2013 hit, \"We th...</td>\n",
       "      <td>100</td>\n",
       "      <td>NaN</td>\n",
       "      <td>NaN</td>\n",
       "      <td>10/29/15</td>\n",
       "      <td>21</td>\n",
       "      <td>6.1</td>\n",
       "      <td>2015</td>\n",
       "      <td>0.00000</td>\n",
       "      <td>0.0</td>\n",
       "    </tr>\n",
       "    <tr>\n",
       "      <th>620</th>\n",
       "      <td>361043</td>\n",
       "      <td>tt5022680</td>\n",
       "      <td>0.129696</td>\n",
       "      <td>0</td>\n",
       "      <td>0</td>\n",
       "      <td>All Hallows' Eve 2</td>\n",
       "      <td>NaN</td>\n",
       "      <td>NaN</td>\n",
       "      <td>Antonio Padovan|Bryan Norton|Marc Roussel|Ryan...</td>\n",
       "      <td>NaN</td>\n",
       "      <td>...</td>\n",
       "      <td>A woman finds a VHS tape on her doorstep that ...</td>\n",
       "      <td>90</td>\n",
       "      <td>NaN</td>\n",
       "      <td>Ruthless Pictures|Hollywood Shorts</td>\n",
       "      <td>10/6/15</td>\n",
       "      <td>13</td>\n",
       "      <td>5.0</td>\n",
       "      <td>2015</td>\n",
       "      <td>0.00000</td>\n",
       "      <td>0.0</td>\n",
       "    </tr>\n",
       "    <tr>\n",
       "      <th>997</th>\n",
       "      <td>287663</td>\n",
       "      <td>NaN</td>\n",
       "      <td>0.330431</td>\n",
       "      <td>0</td>\n",
       "      <td>0</td>\n",
       "      <td>Star Wars Rebels: Spark of Rebellion</td>\n",
       "      <td>Freddie Prinze Jr.|Vanessa Marshall|Steve Blum...</td>\n",
       "      <td>NaN</td>\n",
       "      <td>Steward Lee|Steven G. Lee</td>\n",
       "      <td>NaN</td>\n",
       "      <td>...</td>\n",
       "      <td>A Long Time Ago In A Galaxy Far, Far Awayâ€¦ A...</td>\n",
       "      <td>44</td>\n",
       "      <td>NaN</td>\n",
       "      <td>NaN</td>\n",
       "      <td>10/3/14</td>\n",
       "      <td>13</td>\n",
       "      <td>6.8</td>\n",
       "      <td>2014</td>\n",
       "      <td>0.00000</td>\n",
       "      <td>0.0</td>\n",
       "    </tr>\n",
       "    <tr>\n",
       "      <th>1712</th>\n",
       "      <td>21634</td>\n",
       "      <td>tt1073510</td>\n",
       "      <td>0.302095</td>\n",
       "      <td>0</td>\n",
       "      <td>0</td>\n",
       "      <td>Prayers for Bobby</td>\n",
       "      <td>Ryan Kelley|Sigourney Weaver|Henry Czerny|Dan ...</td>\n",
       "      <td>http://www.prayersforbobby.com/</td>\n",
       "      <td>Russell Mulcahy</td>\n",
       "      <td>Before you echo \"amen\" in your home and place ...</td>\n",
       "      <td>...</td>\n",
       "      <td>True story of Mary Griffith, gay rights crusad...</td>\n",
       "      <td>88</td>\n",
       "      <td>NaN</td>\n",
       "      <td>Daniel Sladek Entertainment</td>\n",
       "      <td>2/27/09</td>\n",
       "      <td>57</td>\n",
       "      <td>7.4</td>\n",
       "      <td>2009</td>\n",
       "      <td>0.00000</td>\n",
       "      <td>0.0</td>\n",
       "    </tr>\n",
       "    <tr>\n",
       "      <th>1897</th>\n",
       "      <td>40534</td>\n",
       "      <td>tt1229827</td>\n",
       "      <td>0.020701</td>\n",
       "      <td>0</td>\n",
       "      <td>0</td>\n",
       "      <td>Jonas Brothers: The Concert Experience</td>\n",
       "      <td>Nick Jonas|Joe Jonas|Kevin Jonas|John Lloyd Ta...</td>\n",
       "      <td>NaN</td>\n",
       "      <td>Bruce Hendricks</td>\n",
       "      <td>NaN</td>\n",
       "      <td>...</td>\n",
       "      <td>Secure your VIP pass to a once-in-a-lifetime e...</td>\n",
       "      <td>76</td>\n",
       "      <td>NaN</td>\n",
       "      <td>NaN</td>\n",
       "      <td>2/27/09</td>\n",
       "      <td>11</td>\n",
       "      <td>7.0</td>\n",
       "      <td>2009</td>\n",
       "      <td>0.00000</td>\n",
       "      <td>0.0</td>\n",
       "    </tr>\n",
       "    <tr>\n",
       "      <th>2370</th>\n",
       "      <td>127717</td>\n",
       "      <td>tt1525359</td>\n",
       "      <td>0.081892</td>\n",
       "      <td>0</td>\n",
       "      <td>0</td>\n",
       "      <td>Freshman Father</td>\n",
       "      <td>Britt Irvin|Merrilyn Gann|Barbara Tyson|Anthon...</td>\n",
       "      <td>NaN</td>\n",
       "      <td>Michael Scott</td>\n",
       "      <td>NaN</td>\n",
       "      <td>...</td>\n",
       "      <td>NaN</td>\n",
       "      <td>0</td>\n",
       "      <td>NaN</td>\n",
       "      <td>NaN</td>\n",
       "      <td>6/5/10</td>\n",
       "      <td>12</td>\n",
       "      <td>5.8</td>\n",
       "      <td>2010</td>\n",
       "      <td>0.00000</td>\n",
       "      <td>0.0</td>\n",
       "    </tr>\n",
       "    <tr>\n",
       "      <th>2376</th>\n",
       "      <td>315620</td>\n",
       "      <td>tt1672218</td>\n",
       "      <td>0.068411</td>\n",
       "      <td>0</td>\n",
       "      <td>0</td>\n",
       "      <td>Doctor Who: A Christmas Carol</td>\n",
       "      <td>Matt Smith|Karen Gillan|Arthur Darvill|Michael...</td>\n",
       "      <td>NaN</td>\n",
       "      <td>NaN</td>\n",
       "      <td>NaN</td>\n",
       "      <td>...</td>\n",
       "      <td>Amy Pond and Rory Williams are trapped on a cr...</td>\n",
       "      <td>62</td>\n",
       "      <td>NaN</td>\n",
       "      <td>NaN</td>\n",
       "      <td>12/25/10</td>\n",
       "      <td>11</td>\n",
       "      <td>7.7</td>\n",
       "      <td>2010</td>\n",
       "      <td>0.00000</td>\n",
       "      <td>0.0</td>\n",
       "    </tr>\n",
       "    <tr>\n",
       "      <th>2853</th>\n",
       "      <td>57892</td>\n",
       "      <td>tt0270053</td>\n",
       "      <td>0.130018</td>\n",
       "      <td>0</td>\n",
       "      <td>0</td>\n",
       "      <td>Vizontele</td>\n",
       "      <td>YÄ±lmaz ErdoÄŸan|Demet Akbag|Altan Erkekli|Cem...</td>\n",
       "      <td>NaN</td>\n",
       "      <td>YÄ±lmaz ErdoÄŸan</td>\n",
       "      <td>NaN</td>\n",
       "      <td>...</td>\n",
       "      <td>The story takes place in a small town (called ...</td>\n",
       "      <td>110</td>\n",
       "      <td>NaN</td>\n",
       "      <td>NaN</td>\n",
       "      <td>2/2/01</td>\n",
       "      <td>12</td>\n",
       "      <td>7.2</td>\n",
       "      <td>2001</td>\n",
       "      <td>0.00000</td>\n",
       "      <td>0.0</td>\n",
       "    </tr>\n",
       "    <tr>\n",
       "      <th>3279</th>\n",
       "      <td>54330</td>\n",
       "      <td>tt1720044</td>\n",
       "      <td>0.145331</td>\n",
       "      <td>0</td>\n",
       "      <td>0</td>\n",
       "      <td>ì•„ê¸°ì™€ ë‚˜</td>\n",
       "      <td>Jang Keun-suk|Song Ha-yoon|Kim Jeong-Nan</td>\n",
       "      <td>NaN</td>\n",
       "      <td>Kim Jin-Yeong</td>\n",
       "      <td>NaN</td>\n",
       "      <td>...</td>\n",
       "      <td>Joon-soo (Jang Geun -Seok) is a rebellious hig...</td>\n",
       "      <td>96</td>\n",
       "      <td>NaN</td>\n",
       "      <td>NaN</td>\n",
       "      <td>8/13/08</td>\n",
       "      <td>11</td>\n",
       "      <td>6.1</td>\n",
       "      <td>2008</td>\n",
       "      <td>0.00000</td>\n",
       "      <td>0.0</td>\n",
       "    </tr>\n",
       "    <tr>\n",
       "      <th>4547</th>\n",
       "      <td>123024</td>\n",
       "      <td>tt2305700</td>\n",
       "      <td>0.520520</td>\n",
       "      <td>0</td>\n",
       "      <td>0</td>\n",
       "      <td>London 2012 Olympic Opening Ceremony: Isles of...</td>\n",
       "      <td>Queen Elizabeth II|Mike Oldfield|Kenneth Brana...</td>\n",
       "      <td>http://www.london2012.com/</td>\n",
       "      <td>Danny Boyle</td>\n",
       "      <td>Inspire a generation.</td>\n",
       "      <td>...</td>\n",
       "      <td>The London 2012 Olympic Games Opening Ceremony...</td>\n",
       "      <td>220</td>\n",
       "      <td>NaN</td>\n",
       "      <td>BBC</td>\n",
       "      <td>7/27/12</td>\n",
       "      <td>12</td>\n",
       "      <td>8.3</td>\n",
       "      <td>2012</td>\n",
       "      <td>0.00000</td>\n",
       "      <td>0.0</td>\n",
       "    </tr>\n",
       "    <tr>\n",
       "      <th>4732</th>\n",
       "      <td>139463</td>\n",
       "      <td>tt2084977</td>\n",
       "      <td>0.235911</td>\n",
       "      <td>0</td>\n",
       "      <td>0</td>\n",
       "      <td>The Scapegoat</td>\n",
       "      <td>Andrew Scott|Jodhi May|Eileen Atkins|Matthew R...</td>\n",
       "      <td>http://www.island-pictures.co.uk/extras/the-sc...</td>\n",
       "      <td>Charles Sturridge</td>\n",
       "      <td>NaN</td>\n",
       "      <td>...</td>\n",
       "      <td>Set in 1952, as England prepares for the coron...</td>\n",
       "      <td>100</td>\n",
       "      <td>NaN</td>\n",
       "      <td>Island Pictures</td>\n",
       "      <td>9/9/12</td>\n",
       "      <td>12</td>\n",
       "      <td>6.2</td>\n",
       "      <td>2012</td>\n",
       "      <td>0.00000</td>\n",
       "      <td>0.0</td>\n",
       "    </tr>\n",
       "    <tr>\n",
       "      <th>4797</th>\n",
       "      <td>369145</td>\n",
       "      <td>NaN</td>\n",
       "      <td>0.167501</td>\n",
       "      <td>0</td>\n",
       "      <td>0</td>\n",
       "      <td>Doctor Who: The Snowmen</td>\n",
       "      <td>Matt Smith|Jenna Coleman|Richard E. Grant|Ian ...</td>\n",
       "      <td>NaN</td>\n",
       "      <td>NaN</td>\n",
       "      <td>NaN</td>\n",
       "      <td>...</td>\n",
       "      <td>Christmas Eve, 1892, and the falling snow is t...</td>\n",
       "      <td>60</td>\n",
       "      <td>NaN</td>\n",
       "      <td>BBC Television UK</td>\n",
       "      <td>12/25/12</td>\n",
       "      <td>10</td>\n",
       "      <td>7.8</td>\n",
       "      <td>2012</td>\n",
       "      <td>0.00000</td>\n",
       "      <td>0.0</td>\n",
       "    </tr>\n",
       "    <tr>\n",
       "      <th>4890</th>\n",
       "      <td>126909</td>\n",
       "      <td>tt2219564</td>\n",
       "      <td>0.083202</td>\n",
       "      <td>0</td>\n",
       "      <td>0</td>\n",
       "      <td>Cousin Ben Troop Screening</td>\n",
       "      <td>Jason Schwartzman</td>\n",
       "      <td>http://www.funnyordie.com/videos/fc132ce8b2/co...</td>\n",
       "      <td>Wes Anderson</td>\n",
       "      <td>NaN</td>\n",
       "      <td>...</td>\n",
       "      <td>Cousin Ben hosts a screening of Wes Anderson's...</td>\n",
       "      <td>2</td>\n",
       "      <td>NaN</td>\n",
       "      <td>NaN</td>\n",
       "      <td>1/1/12</td>\n",
       "      <td>14</td>\n",
       "      <td>7.0</td>\n",
       "      <td>2012</td>\n",
       "      <td>0.00000</td>\n",
       "      <td>0.0</td>\n",
       "    </tr>\n",
       "    <tr>\n",
       "      <th>5830</th>\n",
       "      <td>282848</td>\n",
       "      <td>tt2986512</td>\n",
       "      <td>0.248944</td>\n",
       "      <td>0</td>\n",
       "      <td>0</td>\n",
       "      <td>Doctor Who: The Time of the Doctor</td>\n",
       "      <td>Matt Smith|Jenna Coleman</td>\n",
       "      <td>NaN</td>\n",
       "      <td>James Payne</td>\n",
       "      <td>A change is going to come...</td>\n",
       "      <td>...</td>\n",
       "      <td>Orbiting a quiet backwater planet, the massed ...</td>\n",
       "      <td>60</td>\n",
       "      <td>NaN</td>\n",
       "      <td>NaN</td>\n",
       "      <td>12/25/13</td>\n",
       "      <td>26</td>\n",
       "      <td>8.5</td>\n",
       "      <td>2013</td>\n",
       "      <td>0.00000</td>\n",
       "      <td>0.0</td>\n",
       "    </tr>\n",
       "    <tr>\n",
       "      <th>5934</th>\n",
       "      <td>200204</td>\n",
       "      <td>tt2808968</td>\n",
       "      <td>0.067433</td>\n",
       "      <td>0</td>\n",
       "      <td>0</td>\n",
       "      <td>Prada: Candy</td>\n",
       "      <td>Peter Gadiot|Rodolphe Pauly|LÃ©a Seydoux</td>\n",
       "      <td>NaN</td>\n",
       "      <td>Wes Anderson|Roman Coppola</td>\n",
       "      <td>short</td>\n",
       "      <td>...</td>\n",
       "      <td>Candy is a modern chic french woman. She meets...</td>\n",
       "      <td>3</td>\n",
       "      <td>NaN</td>\n",
       "      <td>NaN</td>\n",
       "      <td>3/25/13</td>\n",
       "      <td>27</td>\n",
       "      <td>6.9</td>\n",
       "      <td>2013</td>\n",
       "      <td>0.00000</td>\n",
       "      <td>0.0</td>\n",
       "    </tr>\n",
       "    <tr>\n",
       "      <th>6043</th>\n",
       "      <td>190940</td>\n",
       "      <td>tt2797242</td>\n",
       "      <td>0.039080</td>\n",
       "      <td>0</td>\n",
       "      <td>0</td>\n",
       "      <td>Bombay Talkies</td>\n",
       "      <td>Aamir Khan|Rani Mukerji|Randeep Hooda|Saqib Sa...</td>\n",
       "      <td>http://en.wikipedia.org/wiki/Bombay_Talkies_%2...</td>\n",
       "      <td>Anurag Kashyap|Dibakar Banerjee|Zoya Akhtar|Ka...</td>\n",
       "      <td>NaN</td>\n",
       "      <td>...</td>\n",
       "      <td>One hundred years of Hindi cinema is celebrate...</td>\n",
       "      <td>127</td>\n",
       "      <td>NaN</td>\n",
       "      <td>Viacom 18 Motion Pictures</td>\n",
       "      <td>5/3/13</td>\n",
       "      <td>12</td>\n",
       "      <td>5.9</td>\n",
       "      <td>2013</td>\n",
       "      <td>0.00000</td>\n",
       "      <td>0.0</td>\n",
       "    </tr>\n",
       "    <tr>\n",
       "      <th>6530</th>\n",
       "      <td>168891</td>\n",
       "      <td>tt0818519</td>\n",
       "      <td>0.092724</td>\n",
       "      <td>0</td>\n",
       "      <td>0</td>\n",
       "      <td>Saw Rebirth</td>\n",
       "      <td>Whit Anderson|Stan Kirsch|Jeff Shuter|George W...</td>\n",
       "      <td>NaN</td>\n",
       "      <td>Jeff Shuter|Daniel Viney</td>\n",
       "      <td>Somewhere... Somehow... Something went wrong...</td>\n",
       "      <td>...</td>\n",
       "      <td>This comic, set in the world of SAW goes back ...</td>\n",
       "      <td>6</td>\n",
       "      <td>NaN</td>\n",
       "      <td>NaN</td>\n",
       "      <td>10/24/05</td>\n",
       "      <td>24</td>\n",
       "      <td>5.9</td>\n",
       "      <td>2005</td>\n",
       "      <td>0.00000</td>\n",
       "      <td>0.0</td>\n",
       "    </tr>\n",
       "    <tr>\n",
       "      <th>8234</th>\n",
       "      <td>56804</td>\n",
       "      <td>tt0114844</td>\n",
       "      <td>0.028874</td>\n",
       "      <td>0</td>\n",
       "      <td>0</td>\n",
       "      <td>Viaggi di nozze</td>\n",
       "      <td>Carlo Verdone|Claudia Gerini|Veronica Pivetti|...</td>\n",
       "      <td>NaN</td>\n",
       "      <td>Carlo Verdone</td>\n",
       "      <td>NaN</td>\n",
       "      <td>...</td>\n",
       "      <td>Le vicessitudini di tre coppie di novelli spos...</td>\n",
       "      <td>103</td>\n",
       "      <td>NaN</td>\n",
       "      <td>NaN</td>\n",
       "      <td>12/15/95</td>\n",
       "      <td>44</td>\n",
       "      <td>6.7</td>\n",
       "      <td>1995</td>\n",
       "      <td>0.00000</td>\n",
       "      <td>0.0</td>\n",
       "    </tr>\n",
       "    <tr>\n",
       "      <th>8614</th>\n",
       "      <td>65595</td>\n",
       "      <td>tt0117880</td>\n",
       "      <td>0.273934</td>\n",
       "      <td>0</td>\n",
       "      <td>0</td>\n",
       "      <td>T2 3-D: Battle Across Time</td>\n",
       "      <td>Arnold Schwarzenegger|Linda Hamilton|Edward Fu...</td>\n",
       "      <td>NaN</td>\n",
       "      <td>James Cameron</td>\n",
       "      <td>NaN</td>\n",
       "      <td>...</td>\n",
       "      <td>Three freedom fighters attack a large corporat...</td>\n",
       "      <td>12</td>\n",
       "      <td>NaN</td>\n",
       "      <td>NaN</td>\n",
       "      <td>1/1/96</td>\n",
       "      <td>14</td>\n",
       "      <td>6.7</td>\n",
       "      <td>1996</td>\n",
       "      <td>0.00000</td>\n",
       "      <td>0.0</td>\n",
       "    </tr>\n",
       "    <tr>\n",
       "      <th>8878</th>\n",
       "      <td>92208</td>\n",
       "      <td>tt0250593</td>\n",
       "      <td>0.038045</td>\n",
       "      <td>0</td>\n",
       "      <td>0</td>\n",
       "      <td>Mom's Got a Date With a Vampire</td>\n",
       "      <td>Matt O'Leary|Laura Vandervoort|Myles Jeffrey|C...</td>\n",
       "      <td>NaN</td>\n",
       "      <td>Steve Boyum</td>\n",
       "      <td>NaN</td>\n",
       "      <td>...</td>\n",
       "      <td>The Hansen kids are in a jam. Adam and his bes...</td>\n",
       "      <td>85</td>\n",
       "      <td>NaN</td>\n",
       "      <td>Walt Disney Pictures</td>\n",
       "      <td>10/13/00</td>\n",
       "      <td>16</td>\n",
       "      <td>5.4</td>\n",
       "      <td>2000</td>\n",
       "      <td>0.00000</td>\n",
       "      <td>0.0</td>\n",
       "    </tr>\n",
       "    <tr>\n",
       "      <th>9307</th>\n",
       "      <td>141859</td>\n",
       "      <td>tt0097446</td>\n",
       "      <td>0.094652</td>\n",
       "      <td>0</td>\n",
       "      <td>0</td>\n",
       "      <td>Goldeneye</td>\n",
       "      <td>Charles Dance|Phyllis Logan|Patrick Ryecart|La...</td>\n",
       "      <td>NaN</td>\n",
       "      <td>Don Boyd</td>\n",
       "      <td>NaN</td>\n",
       "      <td>...</td>\n",
       "      <td>Fact-based biography of James Bond author, Ian...</td>\n",
       "      <td>105</td>\n",
       "      <td>NaN</td>\n",
       "      <td>Anglia Television</td>\n",
       "      <td>8/26/89</td>\n",
       "      <td>10</td>\n",
       "      <td>5.3</td>\n",
       "      <td>1989</td>\n",
       "      <td>0.00000</td>\n",
       "      <td>0.0</td>\n",
       "    </tr>\n",
       "    <tr>\n",
       "      <th>9799</th>\n",
       "      <td>48847</td>\n",
       "      <td>tt0193716</td>\n",
       "      <td>0.175008</td>\n",
       "      <td>0</td>\n",
       "      <td>0</td>\n",
       "      <td>The Amputee</td>\n",
       "      <td>Catherine E. Coulson|David Lynch</td>\n",
       "      <td>NaN</td>\n",
       "      <td>David Lynch</td>\n",
       "      <td>NaN</td>\n",
       "      <td>...</td>\n",
       "      <td>A double leg amputated woman sits and writes a...</td>\n",
       "      <td>5</td>\n",
       "      <td>NaN</td>\n",
       "      <td>NaN</td>\n",
       "      <td>1/1/74</td>\n",
       "      <td>11</td>\n",
       "      <td>5.0</td>\n",
       "      <td>1974</td>\n",
       "      <td>0.00000</td>\n",
       "      <td>0.0</td>\n",
       "    </tr>\n",
       "    <tr>\n",
       "      <th>10659</th>\n",
       "      <td>4255</td>\n",
       "      <td>tt0065904</td>\n",
       "      <td>0.344172</td>\n",
       "      <td>5000</td>\n",
       "      <td>0</td>\n",
       "      <td>The Party at Kitty and Stud's</td>\n",
       "      <td>Sylvester Stallone|Henrietta Holm|Nicholas War...</td>\n",
       "      <td>NaN</td>\n",
       "      <td>Morton Lewis</td>\n",
       "      <td>NaN</td>\n",
       "      <td>...</td>\n",
       "      <td>Kitty and Stud are lovers. They enjoy a robust...</td>\n",
       "      <td>71</td>\n",
       "      <td>NaN</td>\n",
       "      <td>Stallion Releasing Inc.</td>\n",
       "      <td>2/10/70</td>\n",
       "      <td>10</td>\n",
       "      <td>3.0</td>\n",
       "      <td>1970</td>\n",
       "      <td>28081.84172</td>\n",
       "      <td>0.0</td>\n",
       "    </tr>\n",
       "  </tbody>\n",
       "</table>\n",
       "<p>23 rows × 21 columns</p>\n",
       "</div>"
      ],
      "text/plain": [
       "           id    imdb_id  popularity  budget  revenue  \\\n",
       "424    363869  tt4835298    0.244648       0        0   \n",
       "620    361043  tt5022680    0.129696       0        0   \n",
       "997    287663        NaN    0.330431       0        0   \n",
       "1712    21634  tt1073510    0.302095       0        0   \n",
       "1897    40534  tt1229827    0.020701       0        0   \n",
       "2370   127717  tt1525359    0.081892       0        0   \n",
       "2376   315620  tt1672218    0.068411       0        0   \n",
       "2853    57892  tt0270053    0.130018       0        0   \n",
       "3279    54330  tt1720044    0.145331       0        0   \n",
       "4547   123024  tt2305700    0.520520       0        0   \n",
       "4732   139463  tt2084977    0.235911       0        0   \n",
       "4797   369145        NaN    0.167501       0        0   \n",
       "4890   126909  tt2219564    0.083202       0        0   \n",
       "5830   282848  tt2986512    0.248944       0        0   \n",
       "5934   200204  tt2808968    0.067433       0        0   \n",
       "6043   190940  tt2797242    0.039080       0        0   \n",
       "6530   168891  tt0818519    0.092724       0        0   \n",
       "8234    56804  tt0114844    0.028874       0        0   \n",
       "8614    65595  tt0117880    0.273934       0        0   \n",
       "8878    92208  tt0250593    0.038045       0        0   \n",
       "9307   141859  tt0097446    0.094652       0        0   \n",
       "9799    48847  tt0193716    0.175008       0        0   \n",
       "10659    4255  tt0065904    0.344172    5000        0   \n",
       "\n",
       "                                          original_title  \\\n",
       "424                                       Belli di papÃ    \n",
       "620                                   All Hallows' Eve 2   \n",
       "997                 Star Wars Rebels: Spark of Rebellion   \n",
       "1712                                   Prayers for Bobby   \n",
       "1897              Jonas Brothers: The Concert Experience   \n",
       "2370                                     Freshman Father   \n",
       "2376                       Doctor Who: A Christmas Carol   \n",
       "2853                                           Vizontele   \n",
       "3279                                       ì•„ê¸°ì™€ ë‚˜   \n",
       "4547   London 2012 Olympic Opening Ceremony: Isles of...   \n",
       "4732                                       The Scapegoat   \n",
       "4797                             Doctor Who: The Snowmen   \n",
       "4890                          Cousin Ben Troop Screening   \n",
       "5830                  Doctor Who: The Time of the Doctor   \n",
       "5934                                        Prada: Candy   \n",
       "6043                                      Bombay Talkies   \n",
       "6530                                         Saw Rebirth   \n",
       "8234                                     Viaggi di nozze   \n",
       "8614                          T2 3-D: Battle Across Time   \n",
       "8878                     Mom's Got a Date With a Vampire   \n",
       "9307                                           Goldeneye   \n",
       "9799                                         The Amputee   \n",
       "10659                      The Party at Kitty and Stud's   \n",
       "\n",
       "                                                    cast  \\\n",
       "424    Diego Abatantuono|Matilde Gioli|Andrea Pisani|...   \n",
       "620                                                  NaN   \n",
       "997    Freddie Prinze Jr.|Vanessa Marshall|Steve Blum...   \n",
       "1712   Ryan Kelley|Sigourney Weaver|Henry Czerny|Dan ...   \n",
       "1897   Nick Jonas|Joe Jonas|Kevin Jonas|John Lloyd Ta...   \n",
       "2370   Britt Irvin|Merrilyn Gann|Barbara Tyson|Anthon...   \n",
       "2376   Matt Smith|Karen Gillan|Arthur Darvill|Michael...   \n",
       "2853   YÄ±lmaz ErdoÄŸan|Demet Akbag|Altan Erkekli|Cem...   \n",
       "3279            Jang Keun-suk|Song Ha-yoon|Kim Jeong-Nan   \n",
       "4547   Queen Elizabeth II|Mike Oldfield|Kenneth Brana...   \n",
       "4732   Andrew Scott|Jodhi May|Eileen Atkins|Matthew R...   \n",
       "4797   Matt Smith|Jenna Coleman|Richard E. Grant|Ian ...   \n",
       "4890                                   Jason Schwartzman   \n",
       "5830                            Matt Smith|Jenna Coleman   \n",
       "5934            Peter Gadiot|Rodolphe Pauly|LÃ©a Seydoux   \n",
       "6043   Aamir Khan|Rani Mukerji|Randeep Hooda|Saqib Sa...   \n",
       "6530   Whit Anderson|Stan Kirsch|Jeff Shuter|George W...   \n",
       "8234   Carlo Verdone|Claudia Gerini|Veronica Pivetti|...   \n",
       "8614   Arnold Schwarzenegger|Linda Hamilton|Edward Fu...   \n",
       "8878   Matt O'Leary|Laura Vandervoort|Myles Jeffrey|C...   \n",
       "9307   Charles Dance|Phyllis Logan|Patrick Ryecart|La...   \n",
       "9799                    Catherine E. Coulson|David Lynch   \n",
       "10659  Sylvester Stallone|Henrietta Holm|Nicholas War...   \n",
       "\n",
       "                                                homepage  \\\n",
       "424                                                  NaN   \n",
       "620                                                  NaN   \n",
       "997                                                  NaN   \n",
       "1712                     http://www.prayersforbobby.com/   \n",
       "1897                                                 NaN   \n",
       "2370                                                 NaN   \n",
       "2376                                                 NaN   \n",
       "2853                                                 NaN   \n",
       "3279                                                 NaN   \n",
       "4547                          http://www.london2012.com/   \n",
       "4732   http://www.island-pictures.co.uk/extras/the-sc...   \n",
       "4797                                                 NaN   \n",
       "4890   http://www.funnyordie.com/videos/fc132ce8b2/co...   \n",
       "5830                                                 NaN   \n",
       "5934                                                 NaN   \n",
       "6043   http://en.wikipedia.org/wiki/Bombay_Talkies_%2...   \n",
       "6530                                                 NaN   \n",
       "8234                                                 NaN   \n",
       "8614                                                 NaN   \n",
       "8878                                                 NaN   \n",
       "9307                                                 NaN   \n",
       "9799                                                 NaN   \n",
       "10659                                                NaN   \n",
       "\n",
       "                                                director  \\\n",
       "424                                         Guido Chiesa   \n",
       "620    Antonio Padovan|Bryan Norton|Marc Roussel|Ryan...   \n",
       "997                            Steward Lee|Steven G. Lee   \n",
       "1712                                     Russell Mulcahy   \n",
       "1897                                     Bruce Hendricks   \n",
       "2370                                       Michael Scott   \n",
       "2376                                                 NaN   \n",
       "2853                                    YÄ±lmaz ErdoÄŸan   \n",
       "3279                                       Kim Jin-Yeong   \n",
       "4547                                         Danny Boyle   \n",
       "4732                                   Charles Sturridge   \n",
       "4797                                                 NaN   \n",
       "4890                                        Wes Anderson   \n",
       "5830                                         James Payne   \n",
       "5934                          Wes Anderson|Roman Coppola   \n",
       "6043   Anurag Kashyap|Dibakar Banerjee|Zoya Akhtar|Ka...   \n",
       "6530                            Jeff Shuter|Daniel Viney   \n",
       "8234                                       Carlo Verdone   \n",
       "8614                                       James Cameron   \n",
       "8878                                         Steve Boyum   \n",
       "9307                                            Don Boyd   \n",
       "9799                                         David Lynch   \n",
       "10659                                       Morton Lewis   \n",
       "\n",
       "                                                 tagline     ...       \\\n",
       "424                                                  NaN     ...        \n",
       "620                                                  NaN     ...        \n",
       "997                                                  NaN     ...        \n",
       "1712   Before you echo \"amen\" in your home and place ...     ...        \n",
       "1897                                                 NaN     ...        \n",
       "2370                                                 NaN     ...        \n",
       "2376                                                 NaN     ...        \n",
       "2853                                                 NaN     ...        \n",
       "3279                                                 NaN     ...        \n",
       "4547                               Inspire a generation.     ...        \n",
       "4732                                                 NaN     ...        \n",
       "4797                                                 NaN     ...        \n",
       "4890                                                 NaN     ...        \n",
       "5830                        A change is going to come...     ...        \n",
       "5934                                               short     ...        \n",
       "6043                                                 NaN     ...        \n",
       "6530     Somewhere... Somehow... Something went wrong...     ...        \n",
       "8234                                                 NaN     ...        \n",
       "8614                                                 NaN     ...        \n",
       "8878                                                 NaN     ...        \n",
       "9307                                                 NaN     ...        \n",
       "9799                                                 NaN     ...        \n",
       "10659                                                NaN     ...        \n",
       "\n",
       "                                                overview runtime  genres  \\\n",
       "424    Italian remake of the Mexican 2013 hit, \"We th...     100     NaN   \n",
       "620    A woman finds a VHS tape on her doorstep that ...      90     NaN   \n",
       "997    A Long Time Ago In A Galaxy Far, Far Awayâ€¦ A...      44     NaN   \n",
       "1712   True story of Mary Griffith, gay rights crusad...      88     NaN   \n",
       "1897   Secure your VIP pass to a once-in-a-lifetime e...      76     NaN   \n",
       "2370                                                 NaN       0     NaN   \n",
       "2376   Amy Pond and Rory Williams are trapped on a cr...      62     NaN   \n",
       "2853   The story takes place in a small town (called ...     110     NaN   \n",
       "3279   Joon-soo (Jang Geun -Seok) is a rebellious hig...      96     NaN   \n",
       "4547   The London 2012 Olympic Games Opening Ceremony...     220     NaN   \n",
       "4732   Set in 1952, as England prepares for the coron...     100     NaN   \n",
       "4797   Christmas Eve, 1892, and the falling snow is t...      60     NaN   \n",
       "4890   Cousin Ben hosts a screening of Wes Anderson's...       2     NaN   \n",
       "5830   Orbiting a quiet backwater planet, the massed ...      60     NaN   \n",
       "5934   Candy is a modern chic french woman. She meets...       3     NaN   \n",
       "6043   One hundred years of Hindi cinema is celebrate...     127     NaN   \n",
       "6530   This comic, set in the world of SAW goes back ...       6     NaN   \n",
       "8234   Le vicessitudini di tre coppie di novelli spos...     103     NaN   \n",
       "8614   Three freedom fighters attack a large corporat...      12     NaN   \n",
       "8878   The Hansen kids are in a jam. Adam and his bes...      85     NaN   \n",
       "9307   Fact-based biography of James Bond author, Ian...     105     NaN   \n",
       "9799   A double leg amputated woman sits and writes a...       5     NaN   \n",
       "10659  Kitty and Stud are lovers. They enjoy a robust...      71     NaN   \n",
       "\n",
       "                     production_companies release_date vote_count  \\\n",
       "424                                   NaN     10/29/15         21   \n",
       "620    Ruthless Pictures|Hollywood Shorts      10/6/15         13   \n",
       "997                                   NaN      10/3/14         13   \n",
       "1712          Daniel Sladek Entertainment      2/27/09         57   \n",
       "1897                                  NaN      2/27/09         11   \n",
       "2370                                  NaN       6/5/10         12   \n",
       "2376                                  NaN     12/25/10         11   \n",
       "2853                                  NaN       2/2/01         12   \n",
       "3279                                  NaN      8/13/08         11   \n",
       "4547                                  BBC      7/27/12         12   \n",
       "4732                      Island Pictures       9/9/12         12   \n",
       "4797                    BBC Television UK     12/25/12         10   \n",
       "4890                                  NaN       1/1/12         14   \n",
       "5830                                  NaN     12/25/13         26   \n",
       "5934                                  NaN      3/25/13         27   \n",
       "6043            Viacom 18 Motion Pictures       5/3/13         12   \n",
       "6530                                  NaN     10/24/05         24   \n",
       "8234                                  NaN     12/15/95         44   \n",
       "8614                                  NaN       1/1/96         14   \n",
       "8878                 Walt Disney Pictures     10/13/00         16   \n",
       "9307                    Anglia Television      8/26/89         10   \n",
       "9799                                  NaN       1/1/74         11   \n",
       "10659             Stallion Releasing Inc.      2/10/70         10   \n",
       "\n",
       "       vote_average  release_year   budget_adj  revenue_adj  \n",
       "424             6.1          2015      0.00000          0.0  \n",
       "620             5.0          2015      0.00000          0.0  \n",
       "997             6.8          2014      0.00000          0.0  \n",
       "1712            7.4          2009      0.00000          0.0  \n",
       "1897            7.0          2009      0.00000          0.0  \n",
       "2370            5.8          2010      0.00000          0.0  \n",
       "2376            7.7          2010      0.00000          0.0  \n",
       "2853            7.2          2001      0.00000          0.0  \n",
       "3279            6.1          2008      0.00000          0.0  \n",
       "4547            8.3          2012      0.00000          0.0  \n",
       "4732            6.2          2012      0.00000          0.0  \n",
       "4797            7.8          2012      0.00000          0.0  \n",
       "4890            7.0          2012      0.00000          0.0  \n",
       "5830            8.5          2013      0.00000          0.0  \n",
       "5934            6.9          2013      0.00000          0.0  \n",
       "6043            5.9          2013      0.00000          0.0  \n",
       "6530            5.9          2005      0.00000          0.0  \n",
       "8234            6.7          1995      0.00000          0.0  \n",
       "8614            6.7          1996      0.00000          0.0  \n",
       "8878            5.4          2000      0.00000          0.0  \n",
       "9307            5.3          1989      0.00000          0.0  \n",
       "9799            5.0          1974      0.00000          0.0  \n",
       "10659           3.0          1970  28081.84172          0.0  \n",
       "\n",
       "[23 rows x 21 columns]"
      ]
     },
     "execution_count": 20,
     "metadata": {},
     "output_type": "execute_result"
    }
   ],
   "source": [
    "# As some of the questions stated above are related to genre, will check on the genre data for null values\n",
    "df_movies_start[df_movies_start['genres'].isnull()]"
   ]
  },
  {
   "cell_type": "code",
   "execution_count": 21,
   "metadata": {},
   "outputs": [],
   "source": [
    "# As for movies which do not have genre also do not contain valid budget and revenue values, so it seems better to drop\n",
    "# these movies from the analysis, also these are quite less(23) in comparison to total number(10866)\n",
    "\n",
    "df_movies_start.dropna(subset=['genres'], inplace=True)\n"
   ]
  },
  {
   "cell_type": "code",
   "execution_count": 22,
   "metadata": {},
   "outputs": [
    {
     "name": "stdout",
     "output_type": "stream",
     "text": [
      "budget has 0\n",
      "revenue has 0\n",
      "runtime has 0\n",
      "budget_adj has 0\n",
      "revenue_adj has 0\n"
     ]
    }
   ],
   "source": [
    "#Checking which columns contain 0 value\n",
    "for c in df_movies_start.columns:\n",
    "    if (df_movies_start[str(c)] == 0).any():\n",
    "        print(str(c) + \" has 0\")"
   ]
  },
  {
   "cell_type": "markdown",
   "metadata": {},
   "source": [
    "**Lot of questions require budget and revenue details to answer, checking on how many movies have 0 budget and revenue below\n",
    "shows 5000+ movies do not have budget and revenue data. Since this a huge number, not throwing the data out of the analysis\n",
    "and replacing these 0 values with average budget and average revenue values**"
   ]
  },
  {
   "cell_type": "code",
   "execution_count": 23,
   "metadata": {},
   "outputs": [
    {
     "data": {
      "text/plain": [
       "id                      5674\n",
       "imdb_id                 5667\n",
       "popularity              5674\n",
       "budget                  5674\n",
       "revenue                 5674\n",
       "original_title          5674\n",
       "cast                    5610\n",
       "homepage                1224\n",
       "director                5636\n",
       "tagline                 3483\n",
       "keywords                4530\n",
       "overview                5671\n",
       "runtime                 5674\n",
       "genres                  5674\n",
       "production_companies    4794\n",
       "release_date            5674\n",
       "vote_count              5674\n",
       "vote_average            5674\n",
       "release_year            5674\n",
       "budget_adj              5674\n",
       "revenue_adj             5674\n",
       "dtype: int64"
      ]
     },
     "execution_count": 23,
     "metadata": {},
     "output_type": "execute_result"
    }
   ],
   "source": [
    "df_movies_start[df_movies_start['budget']==0].count()"
   ]
  },
  {
   "cell_type": "code",
   "execution_count": 24,
   "metadata": {},
   "outputs": [],
   "source": [
    "budget_mean = df_movies_start.budget.mean()\n",
    "revenue_mean = df_movies_start.revenue.mean()"
   ]
  },
  {
   "cell_type": "code",
   "execution_count": 25,
   "metadata": {},
   "outputs": [],
   "source": [
    "#Replacing 0 budget with budget mean and 0 revenue with revenue_mean\n",
    "df_movies_start['budget'].replace(0, budget_mean, inplace=True)\n",
    "df_movies_start['revenue'].replace(0, revenue_mean, inplace=True)"
   ]
  },
  {
   "cell_type": "markdown",
   "metadata": {},
   "source": [
    "<a id='eda'></a>\n",
    "## <span style=\"color:green\">Exploratory Data Analysis</span>"
   ]
  },
  {
   "cell_type": "markdown",
   "metadata": {},
   "source": [
    "###  Question1 : Correlation Checks"
   ]
  },
  {
   "cell_type": "markdown",
   "metadata": {},
   "source": [
    "**1. Corrleation check between *budget* and *revenue***"
   ]
  },
  {
   "cell_type": "code",
   "execution_count": 26,
   "metadata": {},
   "outputs": [
    {
     "data": {
      "text/plain": [
       "0.7053499678417832"
      ]
     },
     "execution_count": 26,
     "metadata": {},
     "output_type": "execute_result"
    }
   ],
   "source": [
    "df_movies_start.budget.corr(df_movies_start.revenue)"
   ]
  },
  {
   "cell_type": "markdown",
   "metadata": {},
   "source": [
    "**2. Corrleation check between *budget* and *vote_average***"
   ]
  },
  {
   "cell_type": "code",
   "execution_count": 27,
   "metadata": {},
   "outputs": [
    {
     "data": {
      "text/plain": [
       "0.07450170786868507"
      ]
     },
     "execution_count": 27,
     "metadata": {},
     "output_type": "execute_result"
    }
   ],
   "source": [
    "df_movies_start.budget.corr(df_movies_start.vote_average)"
   ]
  },
  {
   "cell_type": "markdown",
   "metadata": {},
   "source": [
    "**3. Corrleation check between *budget* and *runtime***"
   ]
  },
  {
   "cell_type": "code",
   "execution_count": 28,
   "metadata": {},
   "outputs": [
    {
     "data": {
      "text/plain": [
       "0.17133571661571223"
      ]
     },
     "execution_count": 28,
     "metadata": {},
     "output_type": "execute_result"
    }
   ],
   "source": [
    "df_movies_start.budget.corr(df_movies_start.runtime)"
   ]
  },
  {
   "cell_type": "markdown",
   "metadata": {},
   "source": [
    "**4. Corrleation check between *runtime* and *vote_average***"
   ]
  },
  {
   "cell_type": "code",
   "execution_count": 29,
   "metadata": {},
   "outputs": [
    {
     "data": {
      "text/plain": [
       "0.15803338472326275"
      ]
     },
     "execution_count": 29,
     "metadata": {},
     "output_type": "execute_result"
    }
   ],
   "source": [
    "df_movies_start.runtime.corr(df_movies_start.vote_average)"
   ]
  },
  {
   "cell_type": "markdown",
   "metadata": {},
   "source": [
    "### Question 2: What is the decade vise vote_average trend ?<br/>\n",
    "There is a possibility that average vote may reduce/get leveled with more number of samples, so plotting this vis-a-vis number of votes "
   ]
  },
  {
   "cell_type": "code",
   "execution_count": 30,
   "metadata": {},
   "outputs": [],
   "source": [
    "# Filtering the data frames below for each decade\n",
    "df_60s = df_movies_start[(df_movies_start.release_year >= 1960) & (df_movies_start.release_year < 1970)]\n",
    "df_70s = df_movies_start[(df_movies_start.release_year >= 1970) & (df_movies_start.release_year < 1980)]\n",
    "df_80s = df_movies_start[(df_movies_start.release_year >= 1980) & (df_movies_start.release_year < 1990)]\n",
    "df_90s = df_movies_start[(df_movies_start.release_year >= 1990) & (df_movies_start.release_year < 2000)]\n",
    "df_2000s = df_movies_start[(df_movies_start.release_year >= 2000) & (df_movies_start.release_year < 2010)]\n",
    "df_2010s = df_movies_start[(df_movies_start.release_year >= 2010) & (df_movies_start.release_year < 2020)]"
   ]
  },
  {
   "cell_type": "code",
   "execution_count": 31,
   "metadata": {},
   "outputs": [],
   "source": [
    "# Creating an array of each decade vote_average\n",
    "decade_avg_vote = np.array([df_60s['vote_average'].mean(), df_70s['vote_average'].mean(), df_80s['vote_average'].mean(), df_90s['vote_average'].mean(), \n",
    "df_2000s['vote_average'].mean(), df_2010s['vote_average'].mean()])"
   ]
  },
  {
   "cell_type": "code",
   "execution_count": 32,
   "metadata": {},
   "outputs": [],
   "source": [
    "# Creating an array of each decade total vote count\n",
    "decade_total_vote_count = np.array([df_60s['vote_count'].sum(), df_70s['vote_count'].sum(), df_80s['vote_count'].sum(), df_90s['vote_count'].sum(), \n",
    "df_2000s['vote_count'].sum(), df_2010s['vote_count'].sum()])"
   ]
  },
  {
   "cell_type": "code",
   "execution_count": 33,
   "metadata": {},
   "outputs": [
    {
     "data": {
      "text/plain": [
       "array([  25563,   55451,  130743,  316160,  781723, 1052004], dtype=int64)"
      ]
     },
     "execution_count": 33,
     "metadata": {},
     "output_type": "execute_result"
    }
   ],
   "source": [
    "decade_total_vote_count"
   ]
  },
  {
   "cell_type": "code",
   "execution_count": 103,
   "metadata": {},
   "outputs": [
    {
     "data": {
      "text/plain": [
       "Text(0.5,1,'Avg Vote and Total Vote vs Decade chart')"
      ]
     },
     "execution_count": 103,
     "metadata": {},
     "output_type": "execute_result"
    },
    {
     "data": {
      "image/png": "[encoded data removed]",
      "text/plain": [
       "<matplotlib.figure.Figure at 0x287e527db70>"
      ]
     },
     "metadata": {
      "needs_background": "light"
     },
     "output_type": "display_data"
    }
   ],
   "source": [
    "# Plotting the vote_average and total vote_count for last decades\n",
    "decade_vote_df = pd.DataFrame.from_dict({'vote_avg': decade_avg_vote,  'decade': np.array(['1960', '1970', '1980', '1990', '2000','2010']), 'vote_count': decade_total_vote_count})\n",
    "fig, ax1 = plt.subplots()\n",
    "ax1.plot(decade_vote_df.decade,decade_vote_df.vote_avg, label='')\n",
    "plt.legend()\n",
    "ax1.set_xlabel('Decade')\n",
    "ax1.set_ylabel('Average Vote')\n",
    "ax2=ax1.twinx()\n",
    "ax2.plot(decade_vote_df.decade,decade_vote_df.vote_count, color='r', label='y')\n",
    "ax2.set_ylabel('Total Votes')\n",
    "plt.legend()\n",
    "fig.tight_layout()\n",
    "ax1.set_title(\"Avg Vote and Total Vote vs Decade chart\")"
   ]
  },
  {
   "cell_type": "markdown",
   "metadata": {},
   "source": [
    "### Question 3: Top 5 Vote_Average Productions"
   ]
  },
  {
   "cell_type": "code",
   "execution_count": 35,
   "metadata": {},
   "outputs": [],
   "source": [
    "# grouping the data based on production companies\n",
    "movies_grouped_production = df_movies_start.groupby('production_companies', sort=True)"
   ]
  },
  {
   "cell_type": "code",
   "execution_count": 36,
   "metadata": {},
   "outputs": [],
   "source": [
    "# calculating mean vote_average for production companies\n",
    "production_with_mean_vote = movies_grouped_production['vote_average'].agg(np.mean)"
   ]
  },
  {
   "cell_type": "code",
   "execution_count": 87,
   "metadata": {},
   "outputs": [
    {
     "data": {
      "text/plain": [
       "production_companies\n",
       "SMV Enterprises|Columbia Music Video|EMI                                                           8.7\n",
       "Red Bull Media House|Brain Farm Digital Cinema                                                     8.5\n",
       "Miramax Films|British Film Institute (BFI)                                                         8.5\n",
       "Edel records GmbH                                                                                  8.5\n",
       "Eficine 226|Beanca Films|Fondo de InversiÃ³n y EstÃ­mulos al Cine (FIDECINE)|MPN Cologne Film 3    8.4\n",
       "Name: vote_average, dtype: float64"
      ]
     },
     "execution_count": 87,
     "metadata": {},
     "output_type": "execute_result"
    }
   ],
   "source": [
    "# picking out top 5 proudction companies based on high mean vote_average\n",
    "production_with_mean_vote.sort_values(ascending=False).head(5)"
   ]
  },
  {
   "cell_type": "markdown",
   "metadata": {},
   "source": [
    "### Question 4:  Top 5 average budget (Spending) Productions"
   ]
  },
  {
   "cell_type": "code",
   "execution_count": 38,
   "metadata": {},
   "outputs": [],
   "source": [
    "# calculating mean budget for production companies grouped data\n",
    "production_with_mean_budget = movies_grouped_production['budget'].agg(np.mean)"
   ]
  },
  {
   "cell_type": "code",
   "execution_count": 39,
   "metadata": {},
   "outputs": [
    {
     "data": {
      "text/plain": [
       "production_companies\n",
       "Boram Entertainment Inc.                                                     425000000.0\n",
       "Walt Disney Pictures|Jerry Bruckheimer Films|Moving Picture Company (MPC)    380000000.0\n",
       "Marvel Studios|Prime Focus|Revolution Sun Studios                            280000000.0\n",
       "DC Comics|Legendary Pictures|Warner Bros.|Bad Hat Harry Productions          270000000.0\n",
       "Columbia Pictures|Laura Ziskin Productions|Marvel Enterprises                258000000.0\n",
       "Name: budget, dtype: float64"
      ]
     },
     "execution_count": 39,
     "metadata": {},
     "output_type": "execute_result"
    }
   ],
   "source": [
    "# picking out top 5 production companies based mean budget\n",
    "production_with_mean_budget.sort_values(ascending=False).head(5)"
   ]
  },
  {
   "cell_type": "markdown",
   "metadata": {},
   "source": [
    "### Question 5: Top 5 average revenue Productions"
   ]
  },
  {
   "cell_type": "code",
   "execution_count": 40,
   "metadata": {},
   "outputs": [],
   "source": [
    "# calculating mean revenue for production companies grouped data\n",
    "production_with_mean_revenue = movies_grouped_production['revenue'].agg(np.mean)"
   ]
  },
  {
   "cell_type": "code",
   "execution_count": 41,
   "metadata": {},
   "outputs": [
    {
     "data": {
      "text/plain": [
       "production_companies\n",
       "Ingenious Film Partners|Twentieth Century Fox Film Corporation|Dune Entertainment|Lightstorm Entertainment    2.781506e+09\n",
       "Lucasfilm|Truenorth Productions|Bad Robot                                                                     2.068178e+09\n",
       "Paramount Pictures|Twentieth Century Fox Film Corporation|Lightstorm Entertainment                            1.845034e+09\n",
       "Universal Studios|Amblin Entertainment|Legendary Pictures|Fuji Television Network|Dentsu                      1.513529e+09\n",
       "Universal Pictures|Original Film|Media Rights Capital|Dentsu|One Race Films                                   1.506249e+09\n",
       "Name: revenue, dtype: float64"
      ]
     },
     "execution_count": 41,
     "metadata": {},
     "output_type": "execute_result"
    }
   ],
   "source": [
    "# picking out top 5 production companies based mean revenue\n",
    "production_with_mean_revenue.sort_values(ascending=False).head(5)"
   ]
  },
  {
   "cell_type": "markdown",
   "metadata": {},
   "source": [
    "#### Above Top 5 productions stats pulled out to see if Productions who have higher spending are also the one getting higher vote average. Also, to see if Productions with higher spending are also the one with higher revenue "
   ]
  },
  {
   "cell_type": "markdown",
   "metadata": {},
   "source": [
    "### Question 6: Top 5 Movie Genres based on number of movies of the genres made"
   ]
  },
  {
   "cell_type": "code",
   "execution_count": 84,
   "metadata": {},
   "outputs": [
    {
     "data": {
      "text/plain": [
       "Text(0,0.5,'number of movies')"
      ]
     },
     "execution_count": 84,
     "metadata": {},
     "output_type": "execute_result"
    },
    {
     "data": {
      "image/png": "[encoded data removed]",
      "text/plain": [
       "<matplotlib.figure.Figure at 0x287e2745f28>"
      ]
     },
     "metadata": {
      "needs_background": "light"
     },
     "output_type": "display_data"
    }
   ],
   "source": [
    "df_movies_start['genres'].value_counts()\n",
    "df_movies_start['genres'].value_counts().head(5).plot(kind = 'bar')\n",
    "plt.title(\"Top 5 Movie Genres\")\n",
    "plt.xlabel(\"genres\")\n",
    "plt.ylabel(\"number of movies\")"
   ]
  },
  {
   "cell_type": "code",
   "execution_count": 85,
   "metadata": {},
   "outputs": [
    {
     "data": {
      "text/plain": [
       "Text(0.5,1,'Overall Top Movie Genres')"
      ]
     },
     "execution_count": 85,
     "metadata": {},
     "output_type": "execute_result"
    },
    {
     "data": {
      "image/png": "[encoded data removed]",
      "text/plain": [
       "<matplotlib.figure.Figure at 0x287e23437b8>"
      ]
     },
     "metadata": {},
     "output_type": "display_data"
    }
   ],
   "source": [
    "# As many of movies have multiple genres associated with them, so it may be a good idea to use the expanded dataframe and\n",
    "# then analyse the genres.\n",
    "df_movies_genres_expand.genres.value_counts().head(10).plot(kind='pie')\n",
    "plt.title(\"Overall Top Movie Genres\")\n"
   ]
  },
  {
   "cell_type": "markdown",
   "metadata": {},
   "source": [
    "### Question 7: Geners of top 50 vote average movies to see which genre is more in top 50 vote avg movies"
   ]
  },
  {
   "cell_type": "code",
   "execution_count": 88,
   "metadata": {},
   "outputs": [
    {
     "data": {
      "text/plain": [
       "Text(0,0.5,'number of movies')"
      ]
     },
     "execution_count": 88,
     "metadata": {},
     "output_type": "execute_result"
    },
    {
     "data": {
      "image/png": "[encoded data removed]",
      "text/plain": [
       "<matplotlib.figure.Figure at 0x287e1f83470>"
      ]
     },
     "metadata": {
      "needs_background": "light"
     },
     "output_type": "display_data"
    }
   ],
   "source": [
    "# Sorting the vote_average column and then indices of tpo 50 of these vote_average to identify genres\n",
    "top_50_high_voted = df_movies_start.vote_average.sort_values(ascending=False).head(50)\n",
    "df_movies_top_50 = df_movies_start.iloc[top_50_high_voted.index.tolist(), :]\n",
    "df_movies_top_50['genres'].value_counts().head().plot(kind = 'bar')\n",
    "plt.title(\"Top genres in Top 50 Vote Average movies\")\n",
    "plt.xlabel(\"genres\")\n",
    "plt.ylabel(\"number of movies\")"
   ]
  },
  {
   "cell_type": "markdown",
   "metadata": {},
   "source": [
    "### Question 8: Which genre movie are in top 5 high budget? "
   ]
  },
  {
   "cell_type": "code",
   "execution_count": 44,
   "metadata": {},
   "outputs": [
    {
     "data": {
      "text/plain": [
       "Action|Adventure|Science Fiction            5\n",
       "Action|Adventure|Fantasy                    5\n",
       "Adventure|Fantasy|Action                    4\n",
       "Action|Adventure|Fantasy|Science Fiction    4\n",
       "Action|Science Fiction|Adventure            4\n",
       "Name: genres, dtype: int64"
      ]
     },
     "execution_count": 44,
     "metadata": {},
     "output_type": "execute_result"
    }
   ],
   "source": [
    "# pulling out a data frame of budget, genres and release_year to check top genres comparison with budget spent. Also for using this\n",
    "# data for year vise plot in Q9 below\n",
    "df_budget_genres = df_movies_start[['budget', 'genres','release_year']]\n",
    "df_budget_genres[df_budget_genres.index.isin(df_budget_genres.budget.sort_values(ascending=False).head(100).index)].genres.value_counts().head()"
   ]
  },
  {
   "cell_type": "markdown",
   "metadata": {},
   "source": [
    "### Question 9: As Action looks to be one of the high spending genre, trying to find out how top 20 Action movies spending was over the years. Is average Action movies spending growing over th years?"
   ]
  },
  {
   "cell_type": "code",
   "execution_count": 45,
   "metadata": {},
   "outputs": [],
   "source": [
    "Action_index_list =  df_budget_genres[df_budget_genres.genres.str.contains('Action')].budget.sort_values(ascending=False).index"
   ]
  },
  {
   "cell_type": "code",
   "execution_count": 46,
   "metadata": {},
   "outputs": [],
   "source": [
    "df_top20_budget_action = df_budget_genres[df_budget_genres.index.isin(Action_index_list[0:20])]"
   ]
  },
  {
   "cell_type": "code",
   "execution_count": 82,
   "metadata": {},
   "outputs": [
    {
     "data": {
      "text/plain": [
       "Text(0,0.5,'Spending in billion')"
      ]
     },
     "execution_count": 82,
     "metadata": {},
     "output_type": "execute_result"
    },
    {
     "data": {
      "image/png": "[encoded data removed]",
      "text/plain": [
       "<matplotlib.figure.Figure at 0x287e299a6a0>"
      ]
     },
     "metadata": {
      "needs_background": "light"
     },
     "output_type": "display_data"
    }
   ],
   "source": [
    "df_top20_budget_action.groupby('release_year', sort=True).budget.agg(np.mean).plot(kind='line')\n",
    "plt.title(\"Decade vise average Action movies spending\")\n",
    "plt.xlabel(\"Decade\")\n",
    "plt.ylabel(\"Spending in billion\")"
   ]
  },
  {
   "cell_type": "markdown",
   "metadata": {},
   "source": [
    "## Question 10: Which movie(s) has/have caused this peak in 2010?"
   ]
  },
  {
   "cell_type": "code",
   "execution_count": 50,
   "metadata": {},
   "outputs": [
    {
     "name": "stderr",
     "output_type": "stream",
     "text": [
      "C:\\Users\\Nafeez Quraishi\\Anaconda3\\lib\\site-packages\\ipykernel_launcher.py:1: UserWarning: Boolean Series key will be reindexed to match DataFrame index.\n",
      "  \"\"\"Entry point for launching an IPython kernel.\n"
     ]
    },
    {
     "data": {
      "text/html": [
       "<div>\n",
       "<style scoped>\n",
       "    .dataframe tbody tr th:only-of-type {\n",
       "        vertical-align: middle;\n",
       "    }\n",
       "\n",
       "    .dataframe tbody tr th {\n",
       "        vertical-align: top;\n",
       "    }\n",
       "\n",
       "    .dataframe thead th {\n",
       "        text-align: right;\n",
       "    }\n",
       "</style>\n",
       "<table border=\"1\" class=\"dataframe\">\n",
       "  <thead>\n",
       "    <tr style=\"text-align: right;\">\n",
       "      <th></th>\n",
       "      <th>id</th>\n",
       "      <th>imdb_id</th>\n",
       "      <th>popularity</th>\n",
       "      <th>budget</th>\n",
       "      <th>revenue</th>\n",
       "      <th>original_title</th>\n",
       "      <th>cast</th>\n",
       "      <th>homepage</th>\n",
       "      <th>director</th>\n",
       "      <th>tagline</th>\n",
       "      <th>...</th>\n",
       "      <th>overview</th>\n",
       "      <th>runtime</th>\n",
       "      <th>genres</th>\n",
       "      <th>production_companies</th>\n",
       "      <th>release_date</th>\n",
       "      <th>vote_count</th>\n",
       "      <th>vote_average</th>\n",
       "      <th>release_year</th>\n",
       "      <th>budget_adj</th>\n",
       "      <th>revenue_adj</th>\n",
       "    </tr>\n",
       "  </thead>\n",
       "  <tbody>\n",
       "    <tr>\n",
       "      <th>2244</th>\n",
       "      <td>46528</td>\n",
       "      <td>tt1032751</td>\n",
       "      <td>0.25054</td>\n",
       "      <td>425000000.0</td>\n",
       "      <td>11087569.0</td>\n",
       "      <td>The Warrior's Way</td>\n",
       "      <td>Kate Bosworth|Jang Dong-gun|Geoffrey Rush|Dann...</td>\n",
       "      <td>http://www.iamrogue.com/thewarriorsway</td>\n",
       "      <td>Sngmoo Lee</td>\n",
       "      <td>Assassin. Hero. Legend.</td>\n",
       "      <td>...</td>\n",
       "      <td>An Asian assassin (Dong-gun Jang) is forced to...</td>\n",
       "      <td>100</td>\n",
       "      <td>Adventure|Fantasy|Action|Western|Thriller</td>\n",
       "      <td>Boram Entertainment Inc.</td>\n",
       "      <td>12/2/10</td>\n",
       "      <td>74</td>\n",
       "      <td>6.4</td>\n",
       "      <td>2010</td>\n",
       "      <td>425000000.0</td>\n",
       "      <td>11087569.0</td>\n",
       "    </tr>\n",
       "  </tbody>\n",
       "</table>\n",
       "<p>1 rows × 21 columns</p>\n",
       "</div>"
      ],
      "text/plain": [
       "         id    imdb_id  popularity       budget     revenue  \\\n",
       "2244  46528  tt1032751     0.25054  425000000.0  11087569.0   \n",
       "\n",
       "         original_title                                               cast  \\\n",
       "2244  The Warrior's Way  Kate Bosworth|Jang Dong-gun|Geoffrey Rush|Dann...   \n",
       "\n",
       "                                    homepage    director  \\\n",
       "2244  http://www.iamrogue.com/thewarriorsway  Sngmoo Lee   \n",
       "\n",
       "                      tagline     ...       \\\n",
       "2244  Assassin. Hero. Legend.     ...        \n",
       "\n",
       "                                               overview runtime  \\\n",
       "2244  An Asian assassin (Dong-gun Jang) is forced to...     100   \n",
       "\n",
       "                                         genres      production_companies  \\\n",
       "2244  Adventure|Fantasy|Action|Western|Thriller  Boram Entertainment Inc.   \n",
       "\n",
       "     release_date vote_count  vote_average  release_year   budget_adj  \\\n",
       "2244      12/2/10         74           6.4          2010  425000000.0   \n",
       "\n",
       "      revenue_adj  \n",
       "2244   11087569.0  \n",
       "\n",
       "[1 rows x 21 columns]"
      ]
     },
     "execution_count": 50,
     "metadata": {},
     "output_type": "execute_result"
    }
   ],
   "source": [
    "df_movies_start[df_movies_start.index.isin(Action_index_list[0:20])][df_movies_start.release_year==2010]"
   ]
  },
  {
   "cell_type": "markdown",
   "metadata": {},
   "source": [
    "<a id='conclusions'></a>\n",
    "## <span style=\"color:green\">Conclusions</span>"
   ]
  },
  {
   "cell_type": "markdown",
   "metadata": {},
   "source": [
    "## Q1:\n",
    "**Budget has a good correlation with Revenue. Higher revenue is expected for higher budget movies to recover the cost so this does not look to be unusual. **\n",
    "\n",
    "## Q2:\n",
    "**1970s movies received highest average vote. And also, with increasing number of votes it seems average vote has been decreasing usually with an exception of 1970. While, total votes growth has been multi fold decade after decade but average vote though declines but does not vary much. Still this needs more analysis/data gathering to understand this decrease in average vote. **\n",
    "\n",
    "## Q3, Q4, Q5: \n",
    "\n",
    "**This analysis did not show that top-5 high budget spending and top-5 high revenue productions are also the productions who got highest vote average.**\n",
    "\n",
    "## Q6:\n",
    "**Commedy and Drama look to be top genres overall in terms of number of movies made of the genres**\n",
    "\n",
    "## Q7:\n",
    "\n",
    "**When top genres analysis is done on top 50 high vote average movies, documentry genre seems to have come ahead of Commedy and Drama**\n",
    "\n",
    "## Q8:\n",
    "**Top 5 high budget movies genre analysis shows, action and adventure as high spending genres which is kind of expected. \n",
    "\n",
    "## Q9, Q10:\n",
    "**Actions movies seem to have one highest budget with some exceptions, and spending does not seem to have a definitive increasing or decreasing trend. In 2010 there is a exceptional high bump in budget seems to have caused due to spending in The Warrior's way.\n",
    "**https://www.decluttr.com/blog/2018/02/13/what-is-the-most-expensive-movie-ever-made/ mentions, highest ever budget movie had 400m budget.The Warrior's Way above looks to have $425m budget and based on the corresponding revenue it seems to be a big flop."
   ]
  },
  {
   "cell_type": "markdown",
   "metadata": {},
   "source": [
    "## Limitations\n",
    "\n",
    "**DataSet has very high number of rows without budget and revenue data (5000+), this was replaced with mean budget and revenue which has affected the analysis. **"
   ]
  }
 ],
 "metadata": {
  "kernelspec": {
   "display_name": "Python 3",
   "language": "python",
   "name": "python3"
  },
  "language_info": {
   "codemirror_mode": {
    "name": "ipython",
    "version": 3
   },
   "file_extension": ".py",
   "mimetype": "text/x-python",
   "name": "python",
   "nbconvert_exporter": "python",
   "pygments_lexer": "ipython3",
   "version": "3.6.4"
  }
 },
 "nbformat": 4,
 "nbformat_minor": 2
}
